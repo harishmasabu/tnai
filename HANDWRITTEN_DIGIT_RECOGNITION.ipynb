{
  "metadata": {
    "kernelspec": {
      "language": "python",
      "display_name": "Python 3",
      "name": "python3"
    },
    "language_info": {
      "name": "python",
      "version": "3.10.13",
      "mimetype": "text/x-python",
      "codemirror_mode": {
        "name": "ipython",
        "version": 3
      },
      "pygments_lexer": "ipython3",
      "nbconvert_exporter": "python",
      "file_extension": ".py"
    },
    "kaggle": {
      "accelerator": "none",
      "dataSources": [
        {
          "sourceId": 3004,
          "databundleVersionId": 861823,
          "sourceType": "competition"
        }
      ],
      "dockerImageVersionId": 30673,
      "isInternetEnabled": true,
      "language": "python",
      "sourceType": "notebook",
      "isGpuEnabled": false
    },
    "colab": {
      "provenance": [],
      "include_colab_link": true
    }
  },
  "nbformat_minor": 0,
  "nbformat": 4,
  "cells": [
    {
      "cell_type": "markdown",
      "metadata": {
        "id": "view-in-github",
        "colab_type": "text"
      },
      "source": [
        "<a href=\"https://colab.research.google.com/github/Varshhadinesh15/TNSDC-Gen-AI/blob/main/HANDWRITTEN_DIGIT_RECOGNITION.ipynb\" target=\"_parent\"><img src=\"https://colab.research.google.com/assets/colab-badge.svg\" alt=\"Open In Colab\"/></a>"
      ]
    },
    {
      "cell_type": "code",
      "source": [
        "import tensorflow\n",
        "from tensorflow import keras\n",
        "from tensorflow.keras import Sequential\n",
        "from tensorflow.keras.layers import Dense, Flatten"
      ],
      "metadata": {
        "execution": {
          "iopub.status.busy": "2024-03-30T09:15:21.903699Z",
          "iopub.execute_input": "2024-03-30T09:15:21.904412Z",
          "iopub.status.idle": "2024-03-30T09:15:36.887019Z",
          "shell.execute_reply.started": "2024-03-30T09:15:21.904375Z",
          "shell.execute_reply": "2024-03-30T09:15:36.885755Z"
        },
        "trusted": true,
        "id": "vgbo0pLYSkP9"
      },
      "execution_count": 3,
      "outputs": []
    },
    {
      "cell_type": "code",
      "source": [
        "(X_train,y_train),(X_test,y_test) = keras.datasets.mnist.load_data()"
      ],
      "metadata": {
        "execution": {
          "iopub.status.busy": "2024-03-30T09:15:47.027967Z",
          "iopub.execute_input": "2024-03-30T09:15:47.029359Z",
          "iopub.status.idle": "2024-03-30T09:15:47.630632Z",
          "shell.execute_reply.started": "2024-03-30T09:15:47.029296Z",
          "shell.execute_reply": "2024-03-30T09:15:47.629077Z"
        },
        "trusted": true,
        "id": "zn1HNGYRSkP9",
        "colab": {
          "base_uri": "https://localhost:8080/"
        },
        "outputId": "3271b585-342a-486b-c4b0-8429db087ae3"
      },
      "execution_count": 4,
      "outputs": [
        {
          "output_type": "stream",
          "name": "stdout",
          "text": [
            "Downloading data from https://storage.googleapis.com/tensorflow/tf-keras-datasets/mnist.npz\n",
            "11490434/11490434 [==============================] - 0s 0us/step\n"
          ]
        }
      ]
    },
    {
      "cell_type": "code",
      "source": [
        "import matplotlib.pyplot as plt\n",
        "plt.imshow(X_train[2])"
      ],
      "metadata": {
        "execution": {
          "iopub.status.busy": "2024-03-30T09:16:27.717216Z",
          "iopub.execute_input": "2024-03-30T09:16:27.717652Z",
          "iopub.status.idle": "2024-03-30T09:16:28.10507Z",
          "shell.execute_reply.started": "2024-03-30T09:16:27.717618Z",
          "shell.execute_reply": "2024-03-30T09:16:28.103468Z"
        },
        "trusted": true,
        "id": "WoXgq7bDSkP9",
        "colab": {
          "base_uri": "https://localhost:8080/",
          "height": 447
        },
        "outputId": "3c9f01f4-4cde-4033-97b5-84d6bc56bb30"
      },
      "execution_count": 5,
      "outputs": [
        {
          "output_type": "execute_result",
          "data": {
            "text/plain": [
              "<matplotlib.image.AxesImage at 0x7888948f7fa0>"
            ]
          },
          "metadata": {},
          "execution_count": 5
        },
        {
          "output_type": "display_data",
          "data": {
            "text/plain": [
              "<Figure size 640x480 with 1 Axes>"
            ],
            "image/png": "[encoded data removed]"
          },
          "metadata": {}
        }
      ]
    },
    {
      "cell_type": "code",
      "source": [
        "X_train = X_train/255\n",
        "X_test = X_test/255"
      ],
      "metadata": {
        "execution": {
          "iopub.status.busy": "2024-03-30T09:16:49.182841Z",
          "iopub.execute_input": "2024-03-30T09:16:49.183378Z",
          "iopub.status.idle": "2024-03-30T09:16:49.493791Z",
          "shell.execute_reply.started": "2024-03-30T09:16:49.18334Z",
          "shell.execute_reply": "2024-03-30T09:16:49.492284Z"
        },
        "trusted": true,
        "id": "XaEcXacDSkP-"
      },
      "execution_count": 6,
      "outputs": []
    },
    {
      "cell_type": "code",
      "source": [
        "model = Sequential()\n",
        "model.add(Flatten(input_shape=(28,28)))\n",
        "model.add(Dense(128,activation='relu'))\n",
        "model.add(Dense(10,activation='softmax'))"
      ],
      "metadata": {
        "execution": {
          "iopub.status.busy": "2024-03-30T09:17:21.162937Z",
          "iopub.execute_input": "2024-03-30T09:17:21.164347Z",
          "iopub.status.idle": "2024-03-30T09:17:21.276457Z",
          "shell.execute_reply.started": "2024-03-30T09:17:21.164257Z",
          "shell.execute_reply": "2024-03-30T09:17:21.275241Z"
        },
        "trusted": true,
        "id": "hSrHQPG1SkP-"
      },
      "execution_count": 8,
      "outputs": []
    },
    {
      "cell_type": "code",
      "source": [
        "model.summary()"
      ],
      "metadata": {
        "execution": {
          "iopub.status.busy": "2024-03-30T09:17:35.491888Z",
          "iopub.execute_input": "2024-03-30T09:17:35.492302Z",
          "iopub.status.idle": "2024-03-30T09:17:35.518587Z",
          "shell.execute_reply.started": "2024-03-30T09:17:35.492269Z",
          "shell.execute_reply": "2024-03-30T09:17:35.516938Z"
        },
        "trusted": true,
        "id": "mSES1_CoSkP-",
        "colab": {
          "base_uri": "https://localhost:8080/"
        },
        "outputId": "a652bc89-143c-4ecb-97a8-736deb5efc7d"
      },
      "execution_count": 9,
      "outputs": [
        {
          "output_type": "stream",
          "name": "stdout",
          "text": [
            "Model: \"sequential\"\n",
            "_________________________________________________________________\n",
            " Layer (type)                Output Shape              Param #   \n",
            "=================================================================\n",
            " flatten (Flatten)           (None, 784)               0         \n",
            "                                                                 \n",
            " dense (Dense)               (None, 128)               100480    \n",
            "                                                                 \n",
            " dense_1 (Dense)             (None, 10)                1290      \n",
            "                                                                 \n",
            "=================================================================\n",
            "Total params: 101770 (397.54 KB)\n",
            "Trainable params: 101770 (397.54 KB)\n",
            "Non-trainable params: 0 (0.00 Byte)\n",
            "_________________________________________________________________\n"
          ]
        }
      ]
    },
    {
      "cell_type": "code",
      "source": [
        "model.compile(loss='sparse_categorical_crossentropy',optimizer='Adam',metrics=['accuracy'])"
      ],
      "metadata": {
        "execution": {
          "iopub.status.busy": "2024-03-30T09:17:57.870181Z",
          "iopub.execute_input": "2024-03-30T09:17:57.870801Z",
          "iopub.status.idle": "2024-03-30T09:17:57.886606Z",
          "shell.execute_reply.started": "2024-03-30T09:17:57.87077Z",
          "shell.execute_reply": "2024-03-30T09:17:57.88562Z"
        },
        "trusted": true,
        "id": "yUK-6exsSkP-"
      },
      "execution_count": 10,
      "outputs": []
    },
    {
      "cell_type": "code",
      "source": [
        "history = model.fit(X_train,y_train,epochs=30,validation_split=0.2)"
      ],
      "metadata": {
        "execution": {
          "iopub.status.busy": "2024-03-30T09:20:35.53319Z",
          "iopub.execute_input": "2024-03-30T09:20:35.534665Z",
          "iopub.status.idle": "2024-03-30T09:24:34.572854Z",
          "shell.execute_reply.started": "2024-03-30T09:20:35.534616Z",
          "shell.execute_reply": "2024-03-30T09:24:34.571134Z"
        },
        "trusted": true,
        "id": "tIdvo4LqSkP-",
        "colab": {
          "base_uri": "https://localhost:8080/"
        },
        "outputId": "5bc665d4-7a27-47a7-bcef-d613d55e0aba"
      },
      "execution_count": 11,
      "outputs": [
        {
          "output_type": "stream",
          "name": "stdout",
          "text": [
            "Epoch 1/30\n",
            "1500/1500 [==============================] - 6s 4ms/step - loss: 0.2867 - accuracy: 0.9186 - val_loss: 0.1608 - val_accuracy: 0.9534\n",
            "Epoch 2/30\n",
            "1500/1500 [==============================] - 6s 4ms/step - loss: 0.1277 - accuracy: 0.9630 - val_loss: 0.1131 - val_accuracy: 0.9683\n",
            "Epoch 3/30\n",
            "1500/1500 [==============================] - 5s 3ms/step - loss: 0.0885 - accuracy: 0.9735 - val_loss: 0.1181 - val_accuracy: 0.9629\n",
            "Epoch 4/30\n",
            "1500/1500 [==============================] - 6s 4ms/step - loss: 0.0665 - accuracy: 0.9796 - val_loss: 0.0875 - val_accuracy: 0.9732\n",
            "Epoch 5/30\n",
            "1500/1500 [==============================] - 5s 4ms/step - loss: 0.0502 - accuracy: 0.9851 - val_loss: 0.0886 - val_accuracy: 0.9752\n",
            "Epoch 6/30\n",
            "1500/1500 [==============================] - 6s 4ms/step - loss: 0.0389 - accuracy: 0.9879 - val_loss: 0.0919 - val_accuracy: 0.9731\n",
            "Epoch 7/30\n",
            "1500/1500 [==============================] - 6s 4ms/step - loss: 0.0313 - accuracy: 0.9906 - val_loss: 0.0936 - val_accuracy: 0.9731\n",
            "Epoch 8/30\n",
            "1500/1500 [==============================] - 7s 5ms/step - loss: 0.0245 - accuracy: 0.9922 - val_loss: 0.0936 - val_accuracy: 0.9742\n",
            "Epoch 9/30\n",
            "1500/1500 [==============================] - 5s 4ms/step - loss: 0.0203 - accuracy: 0.9938 - val_loss: 0.0948 - val_accuracy: 0.9767\n",
            "Epoch 10/30\n",
            "1500/1500 [==============================] - 7s 4ms/step - loss: 0.0171 - accuracy: 0.9949 - val_loss: 0.0915 - val_accuracy: 0.9762\n",
            "Epoch 11/30\n",
            "1500/1500 [==============================] - 6s 4ms/step - loss: 0.0132 - accuracy: 0.9961 - val_loss: 0.0971 - val_accuracy: 0.9754\n",
            "Epoch 12/30\n",
            "1500/1500 [==============================] - 6s 4ms/step - loss: 0.0107 - accuracy: 0.9967 - val_loss: 0.0920 - val_accuracy: 0.9778\n",
            "Epoch 13/30\n",
            "1500/1500 [==============================] - 6s 4ms/step - loss: 0.0107 - accuracy: 0.9970 - val_loss: 0.1011 - val_accuracy: 0.9769\n",
            "Epoch 14/30\n",
            "1500/1500 [==============================] - 5s 4ms/step - loss: 0.0078 - accuracy: 0.9976 - val_loss: 0.1051 - val_accuracy: 0.9759\n",
            "Epoch 15/30\n",
            "1500/1500 [==============================] - 6s 4ms/step - loss: 0.0069 - accuracy: 0.9980 - val_loss: 0.1044 - val_accuracy: 0.9783\n",
            "Epoch 16/30\n",
            "1500/1500 [==============================] - 5s 3ms/step - loss: 0.0065 - accuracy: 0.9981 - val_loss: 0.1227 - val_accuracy: 0.9735\n",
            "Epoch 17/30\n",
            "1500/1500 [==============================] - 6s 4ms/step - loss: 0.0075 - accuracy: 0.9977 - val_loss: 0.1157 - val_accuracy: 0.9768\n",
            "Epoch 18/30\n",
            "1500/1500 [==============================] - 5s 3ms/step - loss: 0.0060 - accuracy: 0.9982 - val_loss: 0.1198 - val_accuracy: 0.9760\n",
            "Epoch 19/30\n",
            "1500/1500 [==============================] - 6s 4ms/step - loss: 0.0051 - accuracy: 0.9985 - val_loss: 0.1134 - val_accuracy: 0.9778\n",
            "Epoch 20/30\n",
            "1500/1500 [==============================] - 5s 3ms/step - loss: 0.0039 - accuracy: 0.9989 - val_loss: 0.1234 - val_accuracy: 0.9759\n",
            "Epoch 21/30\n",
            "1500/1500 [==============================] - 7s 4ms/step - loss: 0.0047 - accuracy: 0.9987 - val_loss: 0.1330 - val_accuracy: 0.9761\n",
            "Epoch 22/30\n",
            "1500/1500 [==============================] - 5s 4ms/step - loss: 0.0052 - accuracy: 0.9985 - val_loss: 0.1332 - val_accuracy: 0.9759\n",
            "Epoch 23/30\n",
            "1500/1500 [==============================] - 7s 4ms/step - loss: 0.0040 - accuracy: 0.9989 - val_loss: 0.1208 - val_accuracy: 0.9787\n",
            "Epoch 24/30\n",
            "1500/1500 [==============================] - 5s 4ms/step - loss: 0.0043 - accuracy: 0.9986 - val_loss: 0.1398 - val_accuracy: 0.9760\n",
            "Epoch 25/30\n",
            "1500/1500 [==============================] - 6s 4ms/step - loss: 0.0047 - accuracy: 0.9984 - val_loss: 0.1247 - val_accuracy: 0.9789\n",
            "Epoch 26/30\n",
            "1500/1500 [==============================] - 5s 4ms/step - loss: 0.0014 - accuracy: 0.9997 - val_loss: 0.1271 - val_accuracy: 0.9775\n",
            "Epoch 27/30\n",
            "1500/1500 [==============================] - 5s 4ms/step - loss: 0.0047 - accuracy: 0.9985 - val_loss: 0.1442 - val_accuracy: 0.9764\n",
            "Epoch 28/30\n",
            "1500/1500 [==============================] - 6s 4ms/step - loss: 0.0050 - accuracy: 0.9983 - val_loss: 0.1430 - val_accuracy: 0.9758\n",
            "Epoch 29/30\n",
            "1500/1500 [==============================] - 5s 3ms/step - loss: 0.0021 - accuracy: 0.9994 - val_loss: 0.1461 - val_accuracy: 0.9757\n",
            "Epoch 30/30\n",
            "1500/1500 [==============================] - 6s 4ms/step - loss: 0.0048 - accuracy: 0.9984 - val_loss: 0.1447 - val_accuracy: 0.9772\n"
          ]
        }
      ]
    },
    {
      "cell_type": "code",
      "source": [
        "y_pb = model.predict(X_test)"
      ],
      "metadata": {
        "execution": {
          "iopub.status.busy": "2024-03-30T09:27:54.833584Z",
          "iopub.execute_input": "2024-03-30T09:27:54.834138Z",
          "iopub.status.idle": "2024-03-30T09:27:56.208158Z",
          "shell.execute_reply.started": "2024-03-30T09:27:54.834086Z",
          "shell.execute_reply": "2024-03-30T09:27:56.206652Z"
        },
        "trusted": true,
        "id": "LHIZSjCsSkP_",
        "colab": {
          "base_uri": "https://localhost:8080/"
        },
        "outputId": "4cf1a4bb-e083-405d-a222-450eb20cb50d"
      },
      "execution_count": 12,
      "outputs": [
        {
          "output_type": "stream",
          "name": "stdout",
          "text": [
            "313/313 [==============================] - 1s 4ms/step\n"
          ]
        }
      ]
    },
    {
      "cell_type": "code",
      "source": [
        "y_pd = y_pb.argmax(axis=1)"
      ],
      "metadata": {
        "execution": {
          "iopub.status.busy": "2024-03-30T09:28:23.407639Z",
          "iopub.execute_input": "2024-03-30T09:28:23.40924Z",
          "iopub.status.idle": "2024-03-30T09:28:23.41457Z",
          "shell.execute_reply.started": "2024-03-30T09:28:23.409168Z",
          "shell.execute_reply": "2024-03-30T09:28:23.413178Z"
        },
        "trusted": true,
        "id": "1a4PcoIrSkP_"
      },
      "execution_count": 13,
      "outputs": []
    },
    {
      "cell_type": "code",
      "source": [
        "from sklearn.metrics import accuracy_score\n",
        "accuracy_score(y_test,y_pd)"
      ],
      "metadata": {
        "execution": {
          "iopub.status.busy": "2024-03-30T09:28:50.727913Z",
          "iopub.execute_input": "2024-03-30T09:28:50.72845Z",
          "iopub.status.idle": "2024-03-30T09:28:51.971645Z",
          "shell.execute_reply.started": "2024-03-30T09:28:50.728413Z",
          "shell.execute_reply": "2024-03-30T09:28:51.970335Z"
        },
        "trusted": true,
        "id": "fpTBLDg0SkP_",
        "colab": {
          "base_uri": "https://localhost:8080/"
        },
        "outputId": "048b81a9-2d82-4ab8-e303-9969fd5a1617"
      },
      "execution_count": 14,
      "outputs": [
        {
          "output_type": "execute_result",
          "data": {
            "text/plain": [
              "0.9785"
            ]
          },
          "metadata": {},
          "execution_count": 14
        }
      ]
    },
    {
      "cell_type": "code",
      "source": [
        "plt.plot(history.history['accuracy'])\n",
        "plt.plot(history.history['val_accuracy'])"
      ],
      "metadata": {
        "execution": {
          "iopub.status.busy": "2024-03-30T09:29:18.998131Z",
          "iopub.execute_input": "2024-03-30T09:29:18.998989Z",
          "iopub.status.idle": "2024-03-30T09:29:19.309791Z",
          "shell.execute_reply.started": "2024-03-30T09:29:18.998941Z",
          "shell.execute_reply": "2024-03-30T09:29:19.308152Z"
        },
        "trusted": true,
        "id": "eVuq-CeoSkP_",
        "colab": {
          "base_uri": "https://localhost:8080/",
          "height": 447
        },
        "outputId": "37f2f3c4-80d3-4e76-d0e6-0f0af3379f84"
      },
      "execution_count": 15,
      "outputs": [
        {
          "output_type": "execute_result",
          "data": {
            "text/plain": [
              "[<matplotlib.lines.Line2D at 0x788863b46bc0>]"
            ]
          },
          "metadata": {},
          "execution_count": 15
        },
        {
          "output_type": "display_data",
          "data": {
            "text/plain": [
              "<Figure size 640x480 with 1 Axes>"
            ],
            "image/png": "[encoded data removed]"
          },
          "metadata": {}
        }
      ]
    },
    {
      "cell_type": "code",
      "source": [
        "plt.imshow(X_test[3])"
      ],
      "metadata": {
        "execution": {
          "iopub.status.busy": "2024-03-30T09:30:49.842679Z",
          "iopub.execute_input": "2024-03-30T09:30:49.843146Z",
          "iopub.status.idle": "2024-03-30T09:30:50.141433Z",
          "shell.execute_reply.started": "2024-03-30T09:30:49.843111Z",
          "shell.execute_reply": "2024-03-30T09:30:50.14021Z"
        },
        "trusted": true,
        "id": "BCXCOfY4SkP_",
        "colab": {
          "base_uri": "https://localhost:8080/",
          "height": 447
        },
        "outputId": "f7936e19-403a-47aa-e9e1-6375ac8d3a3c"
      },
      "execution_count": 16,
      "outputs": [
        {
          "output_type": "execute_result",
          "data": {
            "text/plain": [
              "<matplotlib.image.AxesImage at 0x788863671cc0>"
            ]
          },
          "metadata": {},
          "execution_count": 16
        },
        {
          "output_type": "display_data",
          "data": {
            "text/plain": [
              "<Figure size 640x480 with 1 Axes>"
            ],
            "image/png": "[encoded data removed]"
          },
          "metadata": {}
        }
      ]
    },
    {
      "cell_type": "code",
      "source": [
        "model.predict(X_test[3].reshape(1,28,28)).argmax(axis=1)"
      ],
      "metadata": {
        "execution": {
          "iopub.status.busy": "2024-03-30T09:30:54.057497Z",
          "iopub.execute_input": "2024-03-30T09:30:54.057908Z",
          "iopub.status.idle": "2024-03-30T09:30:54.146502Z",
          "shell.execute_reply.started": "2024-03-30T09:30:54.057876Z",
          "shell.execute_reply": "2024-03-30T09:30:54.145479Z"
        },
        "trusted": true,
        "id": "JXMHf_3VSkP_",
        "colab": {
          "base_uri": "https://localhost:8080/"
        },
        "outputId": "f748126c-6f6c-446f-a487-ccae0df0cf50"
      },
      "execution_count": 17,
      "outputs": [
        {
          "output_type": "stream",
          "name": "stdout",
          "text": [
            "1/1 [==============================] - 0s 21ms/step\n"
          ]
        },
        {
          "output_type": "execute_result",
          "data": {
            "text/plain": [
              "array([0])"
            ]
          },
          "metadata": {},
          "execution_count": 17
        }
      ]
    },
    {
      "cell_type": "code",
      "source": [
        "test=pd.read_csv('/kaggle/input/digit-recognizer/test.csv')\n",
        "test_values = test.values"
      ],
      "metadata": {
        "execution": {
          "iopub.status.busy": "2024-03-30T09:31:19.487588Z",
          "iopub.execute_input": "2024-03-30T09:31:19.488316Z",
          "iopub.status.idle": "2024-03-30T09:31:22.333751Z",
          "shell.execute_reply.started": "2024-03-30T09:31:19.488272Z",
          "shell.execute_reply": "2024-03-30T09:31:22.33276Z"
        },
        "trusted": true,
        "id": "EZV9COGTSkP_"
      },
      "execution_count": 18,
      "outputs": []
    },
    {
      "cell_type": "code",
      "source": [
        "print(test_values.shape)\n",
        "print(X_test.shape)"
      ],
      "metadata": {
        "execution": {
          "iopub.status.busy": "2024-03-30T09:31:45.935871Z",
          "iopub.execute_input": "2024-03-30T09:31:45.936298Z",
          "iopub.status.idle": "2024-03-30T09:31:45.941763Z",
          "shell.execute_reply.started": "2024-03-30T09:31:45.936266Z",
          "shell.execute_reply": "2024-03-30T09:31:45.940596Z"
        },
        "trusted": true,
        "id": "wgyk2JgFSkP_",
        "colab": {
          "base_uri": "https://localhost:8080/"
        },
        "outputId": "c6b67d1b-427f-4c6b-b220-957f5d9307b7"
      },
      "execution_count": 19,
      "outputs": [
        {
          "output_type": "stream",
          "name": "stdout",
          "text": [
            "(28000, 784)\n",
            "(10000, 28, 28)\n"
          ]
        }
      ]
    },
    {
      "cell_type": "code",
      "source": [
        "test_values_reshaped = test_values.reshape(28000, 28, 28)\n",
        "test_values_reshaped.shape"
      ],
      "metadata": {
        "execution": {
          "iopub.status.busy": "2024-03-30T09:31:55.035522Z",
          "iopub.execute_input": "2024-03-30T09:31:55.03633Z",
          "iopub.status.idle": "2024-03-30T09:31:55.044718Z",
          "shell.execute_reply.started": "2024-03-30T09:31:55.036272Z",
          "shell.execute_reply": "2024-03-30T09:31:55.043809Z"
        },
        "trusted": true,
        "id": "9BMr6tzzSkP_",
        "colab": {
          "base_uri": "https://localhost:8080/"
        },
        "outputId": "c4ddaca5-f28f-4788-ffee-8ce237fdcca0"
      },
      "execution_count": 20,
      "outputs": [
        {
          "output_type": "execute_result",
          "data": {
            "text/plain": [
              "(28000, 28, 28)"
            ]
          },
          "metadata": {},
          "execution_count": 20
        }
      ]
    },
    {
      "cell_type": "code",
      "source": [
        "test_out = model.predict(test_values_reshaped)"
      ],
      "metadata": {
        "execution": {
          "iopub.status.busy": "2024-03-30T09:32:04.584141Z",
          "iopub.execute_input": "2024-03-30T09:32:04.585776Z",
          "iopub.status.idle": "2024-03-30T09:32:07.503752Z",
          "shell.execute_reply.started": "2024-03-30T09:32:04.58571Z",
          "shell.execute_reply": "2024-03-30T09:32:07.50233Z"
        },
        "trusted": true,
        "id": "pIeozLzUSkP_",
        "colab": {
          "base_uri": "https://localhost:8080/"
        },
        "outputId": "cb4a9ec5-2d0a-44d2-ec3b-fb197d62e15c"
      },
      "execution_count": 21,
      "outputs": [
        {
          "output_type": "stream",
          "name": "stdout",
          "text": [
            "875/875 [==============================] - 2s 2ms/step\n"
          ]
        }
      ]
    },
    {
      "cell_type": "code",
      "source": [
        "y =test_out.argmax(axis=1)\n",
        "submission = pd.DataFrame(y, columns=['Label'])\n",
        "submission.index.name = 'ImageId'\n",
        "submission.index += 1\n",
        "submission.to_csv('/kaggle/working/submission.csv')\n",
        "print('Submission completed!')"
      ],
      "metadata": {
        "execution": {
          "iopub.status.busy": "2024-03-30T09:32:35.473379Z",
          "iopub.execute_input": "2024-03-30T09:32:35.473783Z",
          "iopub.status.idle": "2024-03-30T09:32:35.523641Z",
          "shell.execute_reply.started": "2024-03-30T09:32:35.473752Z",
          "shell.execute_reply": "2024-03-30T09:32:35.522247Z"
        },
        "trusted": true,
        "id": "kjcahfIqSkP_",
        "colab": {
          "base_uri": "https://localhost:8080/"
        },
        "outputId": "d56bff7d-226c-4437-945c-66f80ffdd7e4"
      },
      "execution_count": 22,
      "outputs": [
        {
          "output_type": "stream",
          "name": "stdout",
          "text": [
            "Submission completed!\n"
          ]
        }
      ]
    }
  ]
}